{
  "nbformat": 4,
  "nbformat_minor": 0,
  "metadata": {
    "colab": {
      "provenance": [],
      "authorship_tag": "ABX9TyPa+xYtLXZTT9AriGk1Udaq",
      "include_colab_link": true
    },
    "kernelspec": {
      "name": "python3",
      "display_name": "Python 3"
    },
    "language_info": {
      "name": "python"
    }
  },
  "cells": [
    {
      "cell_type": "markdown",
      "metadata": {
        "id": "view-in-github",
        "colab_type": "text"
      },
      "source": [
        "<a href=\"https://colab.research.google.com/github/ARC040306/Metodos-Numericos-I/blob/main/Polinomio%20de%20Hermite.ipynb\" target=\"_parent\"><img src=\"https://colab.research.google.com/assets/colab-badge.svg\" alt=\"Open In Colab\"/></a>"
      ]
    },
    {
      "cell_type": "code",
      "execution_count": 19,
      "metadata": {
        "colab": {
          "base_uri": "https://localhost:8080/"
        },
        "id": "jqhzleFnyuHz",
        "outputId": "4bd026b4-8801-4c9f-f287-9ba3d1e16985"
      },
      "outputs": [
        {
          "output_type": "stream",
          "name": "stdout",
          "text": [
            "Ingrese el total de números a ingresar: 3\n",
            "\n",
            "Ingrese el valor de x0: 1.3\n",
            "\n",
            "Ingrese el valor de x1: 1.6\n",
            "\n",
            "Ingrese el valor de x2: 1.9\n",
            "\n",
            "Ingrese los valores de f(x0): .6200860\n",
            "\n",
            "Ingrese los valores de f(x1): .4554022\n",
            "\n",
            "Ingrese los valores de f(x2): .2818186\n",
            "\n",
            "Ingrese los valores de las derivadas de f(x0): -.5220232\n",
            "\n",
            "Ingrese los valores de las derivadas de f(x1): -.5698959\n",
            "\n",
            "Ingrese los valores de las derivadas de f(x2): -.5811571\n",
            "\n",
            "Ingresa el valor de x a interpolar: 1.5\n",
            "\n",
            "La aproximación de f(1.5) usando interpolación de Hermite es: 0.5101054\n"
          ]
        }
      ],
      "source": [
        "def hermite_interpolation(x, x_valores, f_valores, f_derivadas_valores):\n",
        "    n = len(x_valores)\n",
        "\n",
        "    # Inicializamos el valor de la interpolación\n",
        "    result = 0\n",
        "\n",
        "    # Calculamos la interpolación de Hermite\n",
        "    for i in range(n):\n",
        "        h_i = 1\n",
        "        h_derivada_i = 0\n",
        "        for j in range(n):\n",
        "            if i != j:\n",
        "                h_i *= (x - x_valores[j]) / (x_valores[i] - x_valores[j])\n",
        "                h_derivada_i += 1 / (x_valores[i] - x_valores[j])\n",
        "\n",
        "        # Término para f(x_i)\n",
        "        result += f_valores[i] * h_i * (1 - 2 * (x - x_valores[i]) * f_derivadas_valores[i])\n",
        "\n",
        "        # Término para la derivada f'(x_i)\n",
        "        result += f_derivadas_valores[i] * h_i * (x - x_valores[i])\n",
        "\n",
        "    return result\n",
        "\n",
        "\n",
        "x_valores = []\n",
        "f_valores = []\n",
        "f_derivadas_valores = []\n",
        "\n",
        "n = int(input(\"Ingrese el total de números a ingresar: \"))\n",
        "\n",
        "for i in range(n):\n",
        "  valores_x = float(input(f\"\\nIngrese el valor de x{i}: \"))\n",
        "  x_valores.append(valores_x)\n",
        "\n",
        "for i in range(n):\n",
        "    valores_de_f_de_x = float(input(f\"\\nIngrese los valores de f(x{i}): \"))\n",
        "    f_valores.append(valores_de_f_de_x)\n",
        "\n",
        "for i in range(n):\n",
        "    valores_de_las_derivadas_de_f_de_x = float(input(f\"\\nIngrese los valores de las derivadas de f(x{i}): \"))\n",
        "    f_derivadas_valores.append(valores_de_las_derivadas_de_f_de_x)\n",
        "\n",
        "# El valor en el que queremos hacer la interpolación (puede ser positivo o negativo)\n",
        "x = float(input(\"\\nIngresa el valor de x a interpolar: \"))\n",
        "\n",
        "# Calcular la interpolación de Hermite\n",
        "f_approx = hermite_interpolation(x, x_valores, f_valores, f_derivadas_valores)\n",
        "\n",
        "print(f\"\\nLa aproximación de f({x}) usando interpolación de Hermite es: {f_approx:.7f}\") #el resultado expresado a 7 decimales\n",
        "\n"
      ]
    }
  ]
}