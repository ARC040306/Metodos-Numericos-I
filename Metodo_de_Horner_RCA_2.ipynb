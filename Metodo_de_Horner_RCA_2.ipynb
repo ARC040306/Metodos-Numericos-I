{
  "nbformat": 4,
  "nbformat_minor": 0,
  "metadata": {
    "colab": {
      "provenance": [],
      "authorship_tag": "ABX9TyPT1ISk6LjYenU16xlGl9Yv",
      "include_colab_link": true
    },
    "kernelspec": {
      "name": "python3",
      "display_name": "Python 3"
    },
    "language_info": {
      "name": "python"
    }
  },
  "cells": [
    {
      "cell_type": "markdown",
      "metadata": {
        "id": "view-in-github",
        "colab_type": "text"
      },
      "source": [
        "<a href=\"https://colab.research.google.com/github/ARC040306/Metodos-Numericos-I/blob/main/Metodo_de_Horner_RCA_2.ipynb\" target=\"_parent\"><img src=\"https://colab.research.google.com/assets/colab-badge.svg\" alt=\"Open In Colab\"/></a>"
      ]
    },
    {
      "cell_type": "code",
      "execution_count": 4,
      "metadata": {
        "colab": {
          "base_uri": "https://localhost:8080/"
        },
        "id": "CQ5BL32qpJYb",
        "outputId": "c5d14940-f1cb-4b22-eb63-8cf4eee7afb4"
      },
      "outputs": [
        {
          "output_type": "stream",
          "name": "stdout",
          "text": [
            "Ingrese el valor de X0: -2\n",
            "Ingrese  el grado del polinomio: 4\n",
            "Ingrese el coeficiente a4 (para x^4): 2\n",
            "Ingrese el coeficiente a3 (para x^3): 0\n",
            "Ingrese el coeficiente a2 (para x^2): -3\n",
            "Ingrese el coeficiente a1 (para x^1): 3\n",
            "Ingrese el coeficiente a0 (para x^0): -4\n",
            "Ingrese el maximo de iteraciones: 5\n",
            "\n",
            "Iteración 1 con x0 = -2.0:\n",
            "# iter\t\t y (P(x0))\tz(P'(x0))\n",
            "0 \t\t 2.0000 \t 2.0000\n",
            "1         \t-4.00000       \t-8.00000       \n",
            "2         \t5.00000        \t21.00000       \n",
            "3         \t-7.00000       \t-49.00000      \n",
            "4         \t10.00000       \t               \n",
            "\n",
            "Resultado final: P(-2.00000) = 10.00000, P'(-2.00000) = -49.00000\n",
            "\n",
            "Iteración 2 con x0 = -1.79592:\n",
            "# iter\t\t y (P(x0))\tz(P'(x0))\n",
            "0 \t\t 2.0000 \t 2.0000\n",
            "1         \t-3.59184       \t-7.18367       \n",
            "2         \t3.45065        \t16.35194       \n",
            "3         \t-3.19708       \t-32.56382      \n",
            "4         \t1.74169        \t               \n",
            "\n",
            "Resultado final: P(-1.79592) = 1.74169, P'(-1.79592) = -32.56382\n",
            "\n",
            "Iteración 3 con x0 = -1.74243:\n",
            "# iter\t\t y (P(x0))\tz(P'(x0))\n",
            "0 \t\t 2.0000 \t 2.0000\n",
            "1         \t-3.48487       \t-6.96973       \n",
            "2         \t3.07214        \t15.21643       \n",
            "3         \t-2.35301       \t-28.86662      \n",
            "4         \t0.09996        \t               \n",
            "\n",
            "Resultado final: P(-1.74243) = 0.09996, P'(-1.74243) = -28.86662\n",
            "\n",
            "Iteración 4 con x0 = -1.73897:\n",
            "# iter\t\t y (P(x0))\tz(P'(x0))\n",
            "0 \t\t 2.0000 \t 2.0000\n",
            "1         \t-3.47794       \t-6.95588       \n",
            "2         \t3.04803        \t15.14410       \n",
            "3         \t-2.30044       \t-28.63559      \n",
            "4         \t0.00040        \t               \n",
            "\n",
            "Resultado final: P(-1.73897) = 0.00040, P'(-1.73897) = -28.63559\n",
            "\n",
            "Iteración 5 con x0 = -1.73896:\n",
            "# iter\t\t y (P(x0))\tz(P'(x0))\n",
            "0 \t\t 2.0000 \t 2.0000\n",
            "1         \t-3.47791       \t-6.95583       \n",
            "2         \t3.04794        \t15.14381       \n",
            "3         \t-2.30023       \t-28.63466      \n",
            "4         \t0.00000        \t               \n",
            "\n",
            "Resultado final: P(-1.73896) = 0.00000, P'(-1.73896) = -28.63466\n",
            "\n",
            "Cero aproximado: -1.73896\n"
          ]
        }
      ],
      "source": [
        "from math import *\n",
        "import sympy as sp\n",
        "\n",
        "x0=float(input(\"Ingrese el valor de X0: \"))\n",
        "grado=int(input(\"Ingrese  el grado del polinomio: \"))\n",
        "coeficientes = []\n",
        "for i in range(grado + 1):\n",
        "    coef = float(input(f\"Ingrese el coeficiente a{grado-i}: \"))\n",
        "    coeficientes.append(coef)\n",
        "\n",
        "nmax = int(input(\"Ingrese el maximo de iteraciones: \"))\n",
        "niter = 0\n",
        "\n",
        "# Método de Horner\n",
        "def evaluar_polynomial(coeficientes, x0):\n",
        "    y = coeficientes[0]  # y = a_n, que representa P(x0)\n",
        "    z = coeficientes[0]  # z = a_n, que se usará para calcular Q(x0)\n",
        "\n",
        "    print(\"# iter\\t\\t y (P(x0))\\tz(P'(x0))\")\n",
        "    print(\"{0} \\t\\t {1:6.4f} \\t {2:6.4f}\".format(niter, y , z ))\n",
        "\n",
        "    for j in range(1, len(coeficientes)):\n",
        "        y = x0 * y + coeficientes[j]\n",
        "        if j < len(coeficientes) - 1:\n",
        "            z = x0 * z + y\n",
        "\n",
        "        if j < len(coeficientes) - 1:\n",
        "            print(f\"{j:<10}\\t{y:<15.5f}\\t{z:<15.5f}\")\n",
        "        else:\n",
        "            print(f\"{j:<10}\\t{y:<15.5f}\\t{'':<15}\")\n",
        "\n",
        "    b0 = x0 * y + coeficientes[0]\n",
        "    px = y\n",
        "    p_prima = z\n",
        "    return px,p_prima\n",
        "\n",
        "# Método de Newton para encontrar ceros\n",
        "def metodo_newton(coeficientes, x0, nmax):\n",
        "    for i in range(nmax):\n",
        "        print(f\"\\nIteración {i + 1} con x0 = {x0:.6}:\")\n",
        "        px, p_prima = evaluar_polynomial(coeficientes, x0)\n",
        "        x_nuevo = x0 - (px / p_prima)\n",
        "        print(f\"\\nResultado final: P({x0:.5f}) = {px:.5f}, P'({x0:.5f}) = {p_prima:.5f}\")\n",
        "        x0=x_nuevo\n",
        "    return x0\n",
        "resultado = metodo_newton(coeficientes, x0, nmax)\n",
        "print(f\"\\nCero aproximado: {resultado:.5f}\")"
      ]
    }
  ]
}