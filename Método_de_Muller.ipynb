{
  "nbformat": 4,
  "nbformat_minor": 0,
  "metadata": {
    "colab": {
      "provenance": [],
      "authorship_tag": "ABX9TyM3X92mM9bZKWmRZKEMrbLx",
      "include_colab_link": true
    },
    "kernelspec": {
      "name": "python3",
      "display_name": "Python 3"
    },
    "language_info": {
      "name": "python"
    }
  },
  "cells": [
    {
      "cell_type": "markdown",
      "metadata": {
        "id": "view-in-github",
        "colab_type": "text"
      },
      "source": [
        "<a href=\"https://colab.research.google.com/github/ARC040306/Metodos-Numericos-I/blob/main/M%C3%A9todo_de_Muller.ipynb\" target=\"_parent\"><img src=\"https://colab.research.google.com/assets/colab-badge.svg\" alt=\"Open In Colab\"/></a>"
      ]
    },
    {
      "cell_type": "code",
      "execution_count": 17,
      "metadata": {
        "colab": {
          "base_uri": "https://localhost:8080/"
        },
        "id": "jTlHmf8-0NfG",
        "outputId": "74c27763-6ffb-4773-a8d2-d0a513ef03bd"
      },
      "outputs": [
        {
          "output_type": "stream",
          "name": "stdout",
          "text": [
            "Ingrese la aproximación 1: -3\n",
            "\n",
            "Ingrese la aproximación 2: -2\n",
            "\n",
            "Ingrese la aproximación 3: 2\n",
            "\n",
            "Ingrese la tolerancia: .0001\n",
            "\n",
            "Ingrese el número máximo de iteraciones: 9\n",
            "\n",
            "La raíz aproximada es: 1.531665696866135\n"
          ]
        }
      ],
      "source": [
        "from math import*\n",
        "#debe ser un polinomio cuadratico\n",
        "def f(x):\n",
        "  return x**4 + x**3 - 2 * x**2 + 3 * x - 9\n",
        "\n",
        "p0 = float(input(\"Ingrese la aproximación 1: \")) # -3\n",
        "p1 = float(input(\"\\nIngrese la aproximación 2: \")) # -2\n",
        "p2 = float(input(\"\\nIngrese la aproximación 3: \")) # >= 2\n",
        "tol = float(input(\"\\nIngrese la tolerancia: \")) #10^-4 = .0001\n",
        "nmax = int(input(\"\\nIngrese el número máximo de iteraciones: \")) # 10 o más\n",
        "\n",
        "h1 = p1 - p0\n",
        "h2 = p2 - p1\n",
        "d1 = (f(p1) - f(p0)) / h1\n",
        "d2 = (f(p2) - f(p1)) / h2\n",
        "D = (d2 - d1) / (h2 + h1)\n",
        "i = 3\n",
        "while i <= nmax:\n",
        "  b = d2 + h2 * D\n",
        "  Dpr = sqrt(abs((b**2 - 4 * f(p2) * D)))\n",
        "  if abs(b-Dpr) < abs(b+Dpr):\n",
        "    E = b + Dpr\n",
        "  h = - 2 * f(p2) / E\n",
        "  p = p2 + h\n",
        "  if abs(h) < tol:\n",
        "    print(f\"\\nLa raíz aproximada es: {p}\")\n",
        "    break\n",
        "  elif i>=nmax:\n",
        "    print (f\"\\nEl método fallo después de {nmax} iteraciones\")\n",
        "\n",
        "#genero la siguiente iteración si es que la anterior no funciona\n",
        "  p0 = p1\n",
        "  p1 = p2\n",
        "  p2 = p\n",
        "  h1 = p1 - p0\n",
        "  h2 = p2 - p1\n",
        "  d1 = (f(p1) - f(p0)) / h1\n",
        "  d2 = (f(p2) - f(p1)) / h2\n",
        "  D = (d2 - d1) / (h2 + h1)\n",
        "  i += 1"
      ]
    }
  ]
}