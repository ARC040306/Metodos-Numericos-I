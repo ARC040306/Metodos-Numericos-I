{
  "nbformat": 4,
  "nbformat_minor": 0,
  "metadata": {
    "colab": {
      "provenance": [],
      "authorship_tag": "ABX9TyNIdZtnDR5OeC+ztysLanv2",
      "include_colab_link": true
    },
    "kernelspec": {
      "name": "python3",
      "display_name": "Python 3"
    },
    "language_info": {
      "name": "python"
    }
  },
  "cells": [
    {
      "cell_type": "markdown",
      "metadata": {
        "id": "view-in-github",
        "colab_type": "text"
      },
      "source": [
        "<a href=\"https://colab.research.google.com/github/ARC040306/Metodos-Numericos-I/blob/main/Metodo_de_Horner_RCA.ipynb\" target=\"_parent\"><img src=\"https://colab.research.google.com/assets/colab-badge.svg\" alt=\"Open In Colab\"/></a>"
      ]
    },
    {
      "cell_type": "code",
      "execution_count": 14,
      "metadata": {
        "colab": {
          "base_uri": "https://localhost:8080/",
          "height": 539
        },
        "id": "CQ5BL32qpJYb",
        "outputId": "70f06624-2fd7-45c1-a6e3-b0824739cc30"
      },
      "outputs": [
        {
          "output_type": "stream",
          "name": "stdout",
          "text": [
            "Ingrese el valor inicial:1.5\n",
            "\n",
            "# iter\t\t P \t\t f(P) \t\t error\n",
            "0 \t\t 1.50000 \t 4.25000 \t0.37500\n",
            "1 \t\t 1.50000 \t 4.52249 \t0.38469\n",
            "2 \t\t 1.50000 \t 4.79992 \t0.36807\n",
            "3 \t\t 1.50000 \t 5.06243 \t0.32814\n",
            "4 \t\t 1.50000 \t 5.29349 \t0.27386\n",
            "5 \t\t 1.50000 \t 5.48395 \t0.21587\n",
            "6 \t\t 1.50000 \t 5.63245 \t0.16247\n",
            "7 \t\t 1.50000 \t 5.74323 \t0.11802\n",
            "8 \t\t 1.50000 \t 5.82317 \t0.08351\n",
            "9 \t\t 1.50000 \t 5.87945 \t0.05800\n",
            "10 \t\t 1.50000 \t 5.91841 \t0.03975\n",
            "11 \t\t 1.50000 \t 5.94505 \t0.02700\n",
            "12 \t\t 1.50000 \t 5.96311 \t0.01823\n",
            "13 \t\t 1.50000 \t 5.97529 \t0.01226\n",
            "14 \t\t 1.50000 \t 5.98348 \t0.00822\n",
            "15 \t\t 1.50000 \t 5.98896 \t0.00550\n",
            "16 \t\t 1.50000 \t 5.99263 \t0.00368\n",
            "17 \t\t 1.50000 \t 5.99508 \t0.00245\n",
            "18 \t\t 1.50000 \t 5.99672 \t0.00164\n",
            "19 \t\t 1.50000 \t 5.99781 \t0.00109\n",
            "20 \t\t 1.50000 \t 5.99854 \t0.00073\n",
            "21 \t\t 1.50000 \t 5.99903 \t0.00049\n",
            "22 \t\t 1.50000 \t 5.99935 \t0.00032\n",
            "23 \t\t 1.50000 \t 5.99957 \t0.00022\n",
            "24 \t\t 1.50000 \t 5.99971 \t0.00014\n",
            "25 \t\t 1.50000 \t 5.99981 \t0.00010\n"
          ]
        },
        {
          "output_type": "execute_result",
          "data": {
            "text/plain": [
              "'La raíz encontrada es: 1.0000480482378038'"
            ],
            "application/vnd.google.colaboratory.intrinsic+json": {
              "type": "string"
            }
          },
          "metadata": {},
          "execution_count": 14
        }
      ],
      "source": [
        "# Coeficientes del polinomio en orden descendiente\n",
        "coefs = [1, -6, 11, -6]  # x^3 - 6x^2 + 11x - 6\n",
        "\n",
        "x0 = float(input(\"Ingrese el valor inicial:\"))\n",
        "\n",
        "# Método de Horner para evaluar un polinomio\n",
        "def horner(coefs, x):\n",
        "    n = len(coefs)\n",
        "    result = coefs[0]\n",
        "    for i in range(1, n):\n",
        "        result = result * x + coefs[i]\n",
        "    return result\n",
        "\n",
        "# Derivada del polinomio usando Horner\n",
        "def horner_deriv(coefs, x):\n",
        "    n = len(coefs) - 1\n",
        "    result = coefs[0]\n",
        "    for i in range(1, n):\n",
        "        result = result * x + coefs[i]\n",
        "    deriv = result\n",
        "    return deriv\n",
        "\n",
        "# Método de Newton para encontrar la raíz\n",
        "def newton_method(coefs, x0, tol=0.0001, max_iter=40):\n",
        "    x = x0\n",
        "    print(\"\\n# iter\\t\\t P \\t\\t f(P) \\t\\t error\")\n",
        "    for i in range(max_iter):\n",
        "        fx = horner(coefs, x)\n",
        "        f_prime_x = horner_deriv(coefs, x)\n",
        "        print(\"{0} \\t\\t {1:6.5f} \\t {2:6.5f} \\t{3:6.5f}\".format(i, x0, f_prime_x, abs(fx) ))\n",
        "        if abs(fx) < tol:\n",
        "            return (f'La raíz encontrada es: {x}')\n",
        "\n",
        "        if f_prime_x == 0:\n",
        "            print(\"\\nLa derivada es cero. El método de Newton no puede continuar.\")\n",
        "            return None\n",
        "\n",
        "        x = x - fx / f_prime_x\n",
        "\n",
        "    print(\"\\nNo se encontró la raíz dentro del número máximo de iteraciones.\")\n",
        "    return None\n",
        "newton_method(coefs,x0)"
      ]
    }
  ]
}