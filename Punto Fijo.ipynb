{
  "cells": [
    {
      "cell_type": "markdown",
      "metadata": {
        "id": "view-in-github",
        "colab_type": "text"
      },
      "source": [
        "<a href=\"https://colab.research.google.com/github/ARC040306/Metodos-Numericos-I/blob/main/Punto%20Fijo.ipynb\" target=\"_parent\"><img src=\"https://colab.research.google.com/assets/colab-badge.svg\" alt=\"Open In Colab\"/></a>"
      ]
    },
    {
      "cell_type": "code",
      "execution_count": 47,
      "metadata": {
        "id": "fHG63q6OS1Xt",
        "colab": {
          "base_uri": "https://localhost:8080/"
        },
        "outputId": "8231727f-9849-4fe5-9bd7-7d5057564ffc"
      },
      "outputs": [
        {
          "output_type": "stream",
          "name": "stdout",
          "text": [
            "Ingrese una aproximación inicial: .75\n",
            "\n",
            "Ingresa la tolerancia: .0001\n",
            "\n",
            "Ingrese el número máximo de iteraciones: 10\n",
            "\n",
            "1 p0= 0.75 f(x)= 0.731688868873821 Error= 0.0183111311261791\n",
            "\n",
            "2 p0= 0.731688868873821 f(x)= 0.744047084788764 Error= 0.0123582159149427\n",
            "\n",
            "3 p0= 0.744047084788764 f(x)= 0.735733618187236 Error= 0.00831346660152743\n",
            "\n",
            "4 p0= 0.735733618187236 f(x)= 0.741338598887922 Error= 0.00560498070068582\n",
            "\n",
            "5 p0= 0.741338598887922 f(x)= 0.737565296339266 Error= 0.00377330254865549\n",
            "\n",
            "6 p0= 0.737565296339266 f(x)= 0.740108059615284 Error= 0.00254276327601743\n",
            "\n",
            "7 p0= 0.740108059615284 f(x)= 0.738395691125904 Error= 0.00171236848937983\n",
            "\n",
            "8 p0= 0.738395691125904 f(x)= 0.739549374008310 Error= 0.00115368288240614\n",
            "\n",
            "9 p0= 0.739549374008310 f(x)= 0.738772335400057 Error= 0.000777038608252845\n",
            "\n",
            "10 p0= 0.738772335400057 f(x)= 0.739295801425722 Error= 0.000523466025664776\n",
            "\n",
            "El método fallo después de 10 iteraciones\n"
          ]
        }
      ],
      "source": [
        "from math import *\n",
        "from sympy import*\n",
        "\n",
        "def f(x):\n",
        "    return cos (x)\n",
        "\n",
        "\n",
        "p0 = float(input(\"Ingrese una aproximación inicial: \"))\n",
        "tol = float(input(\"\\nIngresa la tolerancia: \")) # 10^-3 = .001\n",
        "nmax = int(input(\"\\nIngrese el número máximo de iteraciones: \"))\n",
        "i = 1\n",
        "while i<= nmax:\n",
        "  pn = f(p0)\n",
        "  print(f\"\\n{i} p0= {p0} f(x)= {pn} Error= {abs(p0-pn)}\")\n",
        "  if abs(p0-pn) <= tol:\n",
        "    print(f\"\\nEl valor aproximado tal que f(x)=0 es {pn}\")\n",
        "    break\n",
        "  elif i>=nmax:\n",
        "    print (f\"\\nEl método fallo después de {nmax} iteraciones\")\n",
        "  i += 1\n",
        "  p0 = pn\n"
      ]
    }
  ],
  "metadata": {
    "colab": {
      "provenance": [],
      "authorship_tag": "ABX9TyPlFwcRHsVvGIKAaQh69+Y7",
      "include_colab_link": true
    },
    "kernelspec": {
      "display_name": "Python 3",
      "name": "python3"
    },
    "language_info": {
      "name": "python"
    }
  },
  "nbformat": 4,
  "nbformat_minor": 0
}