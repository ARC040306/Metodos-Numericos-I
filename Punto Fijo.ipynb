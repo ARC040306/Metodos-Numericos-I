{
  "cells": [
    {
      "cell_type": "markdown",
      "metadata": {
        "id": "view-in-github",
        "colab_type": "text"
      },
      "source": [
        "<a href=\"https://colab.research.google.com/github/ARC040306/Metodos-Numericos-I/blob/main/Punto%20Fijo.ipynb\" target=\"_parent\"><img src=\"https://colab.research.google.com/assets/colab-badge.svg\" alt=\"Open In Colab\"/></a>"
      ]
    },
    {
      "cell_type": "code",
      "execution_count": 27,
      "metadata": {
        "id": "fHG63q6OS1Xt",
        "colab": {
          "base_uri": "https://localhost:8080/"
        },
        "outputId": "eb908821-dfb6-4012-ab65-71f6a98d8ae2"
      },
      "outputs": [
        {
          "output_type": "stream",
          "name": "stdout",
          "text": [
            "Ingrese una aproximación inicial: 1\n",
            "\n",
            "Ingresa la tolerancia: .01\n",
            "\n",
            "Ingrese el número máximo de iteraciones: 5\n",
            "\n",
            "# iter\t\t P \t\t g(P) \t\t error\n",
            "1 \t\t 1.00000 \t 1.41421 \t0.41421\n",
            "2 \t\t 1.41421 \t 1.30656 \t0.10765\n",
            "3 \t\t 1.30656 \t 1.32867 \t0.02211\n",
            "4 \t\t 1.32867 \t 1.32387 \t0.00480\n",
            "\n",
            "El valor aproximado tal que g(x)=0 es 1.32386997635227\n"
          ]
        }
      ],
      "source": [
        "from math import *\n",
        "from sympy import*\n",
        "\n",
        "def f(x):\n",
        "    return x**3 - x - 1 #esta es la función que se pide a resolver\n",
        "\n",
        "def g(x):\n",
        "    return sqrt(1+(1/x)) #esta es la función ya modificada y la que permite hacer los cálculos, ya que fue verificada anteriormente\n",
        "\n",
        "#son los datos que nos brinda el problema\n",
        "p0 = float(input(\"Ingrese una aproximación inicial: \")) # 1\n",
        "tol = float(input(\"\\nIngresa la tolerancia: \")) # 10^-2 = .01\n",
        "nmax = int(input(\"\\nIngrese el número máximo de iteraciones: \")) # 5 o más\n",
        "i = 1\n",
        "\n",
        "print(\"\\n# iter\\t\\t P \\t\\t g(P) \\t\\t error\")\n",
        "\n",
        "while i<= nmax:\n",
        "  pn = g(p0)\n",
        "  print(\"{0} \\t\\t {1:6.5f} \\t {2:6.5f} \\t{3:6.5f}\".format(i, p0, pn, abs(p0-pn) ))\n",
        "  if abs(p0-pn) <= tol:\n",
        "    print(f\"\\nEl valor aproximado tal que g(x)=0 es {pn}\")\n",
        "    break\n",
        "  elif i>=nmax:\n",
        "    print (f\"\\nEl método fallo después de {nmax} iteraciones\")\n",
        "  i += 1\n",
        "  p0 = pn\n"
      ]
    }
  ],
  "metadata": {
    "colab": {
      "provenance": [],
      "authorship_tag": "ABX9TyOM0v9pMN736FCO3GocKvKP",
      "include_colab_link": true
    },
    "kernelspec": {
      "display_name": "Python 3",
      "name": "python3"
    },
    "language_info": {
      "name": "python"
    }
  },
  "nbformat": 4,
  "nbformat_minor": 0
}