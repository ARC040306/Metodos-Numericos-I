{
  "nbformat": 4,
  "nbformat_minor": 0,
  "metadata": {
    "colab": {
      "provenance": [],
      "authorship_tag": "ABX9TyNdB+x7ZbfjpD0kTFwXsVKN",
      "include_colab_link": true
    },
    "kernelspec": {
      "name": "python3",
      "display_name": "Python 3"
    },
    "language_info": {
      "name": "python"
    }
  },
  "cells": [
    {
      "cell_type": "markdown",
      "metadata": {
        "id": "view-in-github",
        "colab_type": "text"
      },
      "source": [
        "<a href=\"https://colab.research.google.com/github/ARC040306/Metodos-Numericos-I/blob/main/Eliminaci%C3%B3n_Gaussiana_RCA.ipynb\" target=\"_parent\"><img src=\"https://colab.research.google.com/assets/colab-badge.svg\" alt=\"Open In Colab\"/></a>"
      ]
    },
    {
      "cell_type": "code",
      "execution_count": null,
      "metadata": {
        "id": "eCSxbWjuDkXa",
        "colab": {
          "base_uri": "https://localhost:8080/"
        },
        "outputId": "664dfe40-81fc-4a3d-8cc4-b4b28060376c"
      },
      "outputs": [
        {
          "output_type": "stream",
          "name": "stdout",
          "text": [
            "Ingrese el tamaño de la matriz (n x n): 4\n",
            "Ingrese los valores de la matriz aumentada fila por fila:\n",
            "Fila 1 (separe los valores con espacios, 5 valores esperados): 1 -1 2 -1 -8\n",
            "Fila 2 (separe los valores con espacios, 5 valores esperados): 2 -2 3 -3 -20\n",
            "Fila 3 (separe los valores con espacios, 5 valores esperados): 1 1 1 0 -2\n",
            "Fila 4 (separe los valores con espacios, 5 valores esperados): 1 -1 4 3 4\n",
            "\n",
            "El resultado es:\n",
            "\n",
            "x1 = -7.0000\n",
            "\n",
            "x2 = 3.0000\n",
            "\n",
            "x3 = 2.0000\n",
            "\n",
            "x4 = 2.0000\n"
          ]
        }
      ],
      "source": [
        "import numpy as np\n",
        "\n",
        "n = int(input(\"Ingrese el tamaño de la matriz (n x n): \"))\n",
        "\n",
        "# Crear matriz aumentada\n",
        "A = np.zeros((n, n + 1))\n",
        "print(\"Ingrese los valores de la matriz aumentada fila por fila:\")\n",
        "for i in range(n):\n",
        "    while True:\n",
        "        fila = input(f\"Fila {i + 1} (separe los valores con espacios, {n + 1} valores esperados): \").split()\n",
        "        if len(fila) != n + 1:\n",
        "            print(f\"Error: Debe ingresar exactamente {n + 1} valores.\")\n",
        "        else:\n",
        "            A[i] = [float(valor) for valor in fila]\n",
        "            break\n",
        "\n",
        "n = len(A)\n",
        "\n",
        "for i in range(n):\n",
        "    # Buscando p\n",
        "    p = -1\n",
        "    for k in range(i, n):\n",
        "        if A[k, i] != 0:\n",
        "            p = k\n",
        "            break\n",
        "    if p == -1:\n",
        "        print(\"No existe una solución única\")\n",
        "        exit()\n",
        "\n",
        "    # Intercambiando filas si es necesario\n",
        "    if p != i:\n",
        "        A[[i, p]] = A[[p, i]]\n",
        "\n",
        "    # Reduciendo\n",
        "    for j in range(i + 1, n):\n",
        "        m_ji = A[j, i] / A[i, i]\n",
        "        A[j] -= m_ji * A[i]\n",
        "\n",
        "# Verificar si el sistema tiene solución única\n",
        "if A[n - 1, n - 1] == 0:\n",
        "    print(\"No existe una solución única\")\n",
        "    exit()\n",
        "\n",
        "# Sustitución hacia atrás\n",
        "x = np.zeros(n)\n",
        "x[n - 1] = A[n - 1, n] / A[n - 1, n - 1]\n",
        "for i in range(n - 2, -1, -1):\n",
        "    suma = sum(A[i, j] * x[j] for j in range(i + 1, n))\n",
        "    x[i] = (A[i, n] - suma) / A[i, i]\n",
        "\n",
        "# Imprimir los resultados\n",
        "print(\"\\nEl resultado es:\")\n",
        "for i in range(len(x)):\n",
        "    print(f\"\\nx{i + 1} = {x[i]:.4f}\")\n"
      ]
    }
  ]
}