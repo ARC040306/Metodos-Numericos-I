{
  "nbformat": 4,
  "nbformat_minor": 0,
  "metadata": {
    "colab": {
      "provenance": [],
      "authorship_tag": "ABX9TyPuTihjq59E28/yLrR3GCbH",
      "include_colab_link": true
    },
    "kernelspec": {
      "name": "python3",
      "display_name": "Python 3"
    },
    "language_info": {
      "name": "python"
    }
  },
  "cells": [
    {
      "cell_type": "markdown",
      "metadata": {
        "id": "view-in-github",
        "colab_type": "text"
      },
      "source": [
        "<a href=\"https://colab.research.google.com/github/ARC040306/Metodos-Numericos-I/blob/main/Factorizaci%C3%B3n_LU.ipynb\" target=\"_parent\"><img src=\"https://colab.research.google.com/assets/colab-badge.svg\" alt=\"Open In Colab\"/></a>"
      ]
    },
    {
      "cell_type": "code",
      "source": [
        "import numpy as np\n",
        "\n",
        "n = int(input(\"Ingrese el tamaño de la matriz cuadrada (n): \"))\n",
        "print(\"Ingrese los elementos de la matriz A fila por fila (separados por espacios):\")\n",
        "A = np.array([list(map(float, input(f\"Fila {i + 1}: \").split())) for i in range(n)])\n",
        "\n",
        "# Verificamos que la matriz sea cuadrada\n",
        "if A.shape != (n, n):\n",
        "    print(\"La matriz ingresada no es cuadrada.\")\n",
        "else:\n",
        "    # Inicializamos las matrices L y U\n",
        "    L = np.eye(n)\n",
        "    U = np.zeros((n, n))\n",
        "\n",
        "    for i in range(n):\n",
        "        pivot = A[i, i] - sum(L[i, k] * U[k, i] for k in range(i))\n",
        "        if pivot == 0:\n",
        "            print(\"Factorización no posible: el pivote es cero.\")\n",
        "            break\n",
        "        L[i, i] = 1\n",
        "        U[i, i] = pivot\n",
        "\n",
        "        #Calculando la i-ésima fila de U\n",
        "        for j in range(i + 1, n):\n",
        "            U[i, j] = (A[i, j] - sum(L[i, k] * U[k, j] for k in range(i))) / L[i, i]\n",
        "\n",
        "        #Calculando la i-ésima columna de L\n",
        "        for j in range(i + 1, n):\n",
        "            L[j, i] = (A[j, i] - sum(L[j, k] * U[k, i] for k in range(i))) / U[i, i]\n",
        "\n",
        "    print(\"\\nMatriz L:\")\n",
        "    print(L)\n",
        "    print(\"\\nMatriz U:\")\n",
        "    print(U)\n"
      ],
      "metadata": {
        "colab": {
          "base_uri": "https://localhost:8080/"
        },
        "id": "VrZWwYWEUAT6",
        "outputId": "f180e77a-334d-4939-fb8d-8964800192d9"
      },
      "execution_count": 5,
      "outputs": [
        {
          "output_type": "stream",
          "name": "stdout",
          "text": [
            "Ingrese el tamaño de la matriz cuadrada (n): 4\n",
            "Ingrese los elementos de la matriz A fila por fila (separados por espacios):\n",
            "Fila 1: 1 1 0 3\n",
            "Fila 2: 2 1 -1 1\n",
            "Fila 3: 3 -1 -1 2\n",
            "Fila 4: -1 2 3 -1\n",
            "\n",
            "Matriz L:\n",
            "[[ 1.  0.  0.  0.]\n",
            " [ 2.  1.  0.  0.]\n",
            " [ 3.  4.  1.  0.]\n",
            " [-1. -3.  0.  1.]]\n",
            "\n",
            "Matriz U:\n",
            "[[  1.   1.   0.   3.]\n",
            " [  0.  -1.  -1.  -5.]\n",
            " [  0.   0.   3.  13.]\n",
            " [  0.   0.   0. -13.]]\n"
          ]
        }
      ]
    }
  ]
}