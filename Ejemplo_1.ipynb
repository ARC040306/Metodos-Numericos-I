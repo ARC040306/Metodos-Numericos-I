{
  "nbformat": 4,
  "nbformat_minor": 0,
  "metadata": {
    "colab": {
      "provenance": [],
      "authorship_tag": "ABX9TyMzBdyMMCNR4FneVr80yvBb",
      "include_colab_link": true
    },
    "kernelspec": {
      "name": "python3",
      "display_name": "Python 3"
    },
    "language_info": {
      "name": "python"
    }
  },
  "cells": [
    {
      "cell_type": "markdown",
      "metadata": {
        "id": "view-in-github",
        "colab_type": "text"
      },
      "source": [
        "<a href=\"https://colab.research.google.com/github/ARC040306/Metodos-Numericos-I/blob/main/Ejemplo_1.ipynb\" target=\"_parent\"><img src=\"https://colab.research.google.com/assets/colab-badge.svg\" alt=\"Open In Colab\"/></a>"
      ]
    },
    {
      "cell_type": "code",
      "source": [
        "from numpy import*\n",
        "\n",
        "n = int(input(\"Ingresa el total de números a generar: \"))\n",
        "va = [n]\n",
        "for i in range(n-1):\n",
        "  va.append(random.randint(1,100))\n",
        "VA = array(va)\n",
        "\n",
        "print(f\"El vector es: \\n{VA}\")"
      ],
      "metadata": {
        "colab": {
          "base_uri": "https://localhost:8080/"
        },
        "id": "VrZWwYWEUAT6",
        "outputId": "8d76c78f-8646-43c9-b6b2-ebd723a96b0c"
      },
      "execution_count": null,
      "outputs": [
        {
          "output_type": "stream",
          "name": "stdout",
          "text": [
            "Ingresa el total de números a generar: 4\n",
            "El vector es: \n",
            "[ 4  9 54 50]\n"
          ]
        }
      ]
    }
  ]
}