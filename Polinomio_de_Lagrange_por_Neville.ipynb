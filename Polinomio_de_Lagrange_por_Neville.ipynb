{
  "nbformat": 4,
  "nbformat_minor": 0,
  "metadata": {
    "colab": {
      "provenance": [],
      "authorship_tag": "ABX9TyM5xiuk3zEMEfDzYnmtA/4v",
      "include_colab_link": true
    },
    "kernelspec": {
      "name": "python3",
      "display_name": "Python 3"
    },
    "language_info": {
      "name": "python"
    }
  },
  "cells": [
    {
      "cell_type": "markdown",
      "metadata": {
        "id": "view-in-github",
        "colab_type": "text"
      },
      "source": [
        "<a href=\"https://colab.research.google.com/github/ARC040306/Metodos-Numericos-I/blob/main/Polinomio_de_Lagrange_por_Neville.ipynb\" target=\"_parent\"><img src=\"https://colab.research.google.com/assets/colab-badge.svg\" alt=\"Open In Colab\"/></a>"
      ]
    },
    {
      "cell_type": "code",
      "execution_count": 5,
      "metadata": {
        "colab": {
          "base_uri": "https://localhost:8080/"
        },
        "id": "XWn-vMILMo-Z",
        "outputId": "8939ac60-1740-433c-c75e-738b6a920dac"
      },
      "outputs": [
        {
          "output_type": "stream",
          "name": "stdout",
          "text": [
            "Ingrese la cantidad de datos a capturar: 5\n",
            "\n",
            "Ingrese el valor de x0: 1.0\n",
            "\n",
            "Ingrese el valor de x1: 1.3\n",
            "\n",
            "Ingrese el valor de x2: 1.6\n",
            "\n",
            "Ingrese el valor de x3: 1.9\n",
            "\n",
            "Ingrese el valor de x4: 2.2\n",
            "\n",
            "Ingrese los valores de f(x0): .765\n",
            "\n",
            "Ingrese los valores de f(x1): .620\n",
            "\n",
            "Ingrese los valores de f(x2): .455\n",
            "\n",
            "Ingrese los valores de f(x3): .281\n",
            "\n",
            "Ingrese los valores de f(x4): .110\n",
            "\n",
            "Ingrese el valor de x para interpolar: 1.5\n",
            "Q_1,0 = 0.5233333333333333\n",
            "Q_2,1 = 0.51\n",
            "Q_3,2 = 0.513\n",
            "Q_4,3 = 0.5089999999999998\n"
          ]
        }
      ],
      "source": [
        "import sympy as sp\n",
        "\n",
        "x = sp.Symbol(\"x\")\n",
        "\n",
        "# Listas para almacenar los valores de x y f(x)\n",
        "lista_de_valores_de_x = []\n",
        "lista_de_valores_de_f_de_x = []\n",
        "\n",
        "# Capturar la cantidad de puntos\n",
        "n = int(input(\"Ingrese la cantidad de datos a capturar: \"))\n",
        "\n",
        "# Capturar los valores de x\n",
        "for i in range(n):\n",
        "    valores_x = float(input(f\"\\nIngrese el valor de x{i}: \"))\n",
        "    lista_de_valores_de_x.append(valores_x)\n",
        "\n",
        "# Capturar los valores de f(x)\n",
        "for i in range(n):\n",
        "    valores_de_f_de_x = float(input(f\"\\nIngrese los valores de f(x{i}): \"))\n",
        "    lista_de_valores_de_f_de_x.append(valores_de_f_de_x)\n",
        "\n",
        "valor_de_x = float(input(\"\\nIngrese el valor de x para interpolar: \"))\n",
        "\n",
        "for i in range(n - 1):\n",
        "    Q_i_j = (((valor_de_x - lista_de_valores_de_x[i]) * lista_de_valores_de_f_de_x[i+1]) - ((valor_de_x - lista_de_valores_de_x[i+1]) * lista_de_valores_de_f_de_x[i])) / (lista_de_valores_de_x[i+1] - lista_de_valores_de_x[i])\n",
        "\n",
        "    print(f\"\\nQ_{i+1},{i} = {Q_i_j}\")\n",
        "\n"
      ]
    }
  ]
}