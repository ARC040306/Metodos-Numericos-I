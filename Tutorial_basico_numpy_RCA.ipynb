{
  "nbformat": 4,
  "nbformat_minor": 0,
  "metadata": {
    "colab": {
      "provenance": [],
      "authorship_tag": "ABX9TyNiSxwwLcKlcfGvZoxdj9zq",
      "include_colab_link": true
    },
    "kernelspec": {
      "name": "python3",
      "display_name": "Python 3"
    },
    "language_info": {
      "name": "python"
    }
  },
  "cells": [
    {
      "cell_type": "markdown",
      "metadata": {
        "id": "view-in-github",
        "colab_type": "text"
      },
      "source": [
        "<a href=\"https://colab.research.google.com/github/ARC040306/Metodos-Numericos-I/blob/main/Tutorial_basico_numpy_RCA.ipynb\" target=\"_parent\"><img src=\"https://colab.research.google.com/assets/colab-badge.svg\" alt=\"Open In Colab\"/></a>"
      ]
    },
    {
      "cell_type": "code",
      "execution_count": 5,
      "metadata": {
        "colab": {
          "base_uri": "https://localhost:8080/"
        },
        "id": "YLXq0SDk6a14",
        "outputId": "0cc8131c-c2ba-426e-c753-c56e022488a2"
      },
      "outputs": [
        {
          "output_type": "stream",
          "name": "stdout",
          "text": [
            "Arreglo a partir de lista: [1 2 3 4 5]\n",
            "\n",
            "Arreglo de ceros:\n",
            " [[0. 0. 0.]\n",
            " [0. 0. 0.]]\n",
            "\n",
            "Arreglo de unos:\n",
            " [[1. 1.]\n",
            " [1. 1.]\n",
            " [1. 1.]]\n",
            "\n",
            "Arreglo linspace: [ 0.   2.5  5.   7.5 10. ]\n",
            "\n",
            "Arreglo aleatorio:\n",
            " [[4.31660558e-01 7.14005972e-04]\n",
            " [8.19161276e-01 9.10864751e-01]]\n",
            "\n",
            "Valor máximo del arreglo: 5\n",
            "\n",
            "Valor mínimo del arreglo: 1\n",
            "\n",
            "Suma de los elementos: 15\n",
            "\n",
            "Media de los elementos: 3.0\n",
            "\n",
            "Arreglo reconfigurado:\n",
            " [[1]\n",
            " [2]\n",
            " [3]\n",
            " [4]\n",
            " [5]]\n",
            "\n",
            "Suma de dos arreglos: [6 6 6 6 6]\n",
            "\n",
            "Producto punto de dos arreglos: 35\n",
            "\n",
            "Arreglo con rango: [0 2 4 6 8]\n",
            "\n",
            "Índice del valor máximo: 4\n",
            "\n",
            "Arreglo redimensionado:\n",
            " [[1 2 3]\n",
            " [4 5 1]]\n"
          ]
        }
      ],
      "source": [
        "import numpy as np\n",
        "\n",
        "# np.array() convierte una lista o lista de listas en un arreglo de NumPy\n",
        "arr = np.array([1, 2, 3, 4, 5])\n",
        "print(\"Arreglo a partir de lista:\", arr)\n",
        "\n",
        "# np.zeros() crea un arreglo con todos sus elementos igual a 0\n",
        "zeros = np.zeros((2, 3))  # 2 filas y 3 columnas\n",
        "print(\"\\nArreglo de ceros:\\n\", zeros)\n",
        "\n",
        "# np.ones() crea un arreglo con todos sus elementos igual a 1\n",
        "unos = np.ones((3, 2))  # 3 filas y 2 columnas\n",
        "print(\"\\nArreglo de unos:\\n\", unos)\n",
        "\n",
        "# np.linspace() genera un arreglo de números igualmente espaciados entre un rango\n",
        "linspace_arr = np.linspace(0, 10, 5)  # De 0 a 10, con 5 elementos\n",
        "print(\"\\nArreglo linspace:\", linspace_arr)\n",
        "\n",
        "# np.random.rand() genera un arreglo con valores aleatorios de una distribución uniforme en el intervalo [0, 1)\n",
        "aleatorio = np.random.rand(2, 2)  # 2 filas y 2 columnas\n",
        "print(\"\\nArreglo aleatorio:\\n\", aleatorio)\n",
        "\n",
        "# np.max() retorna el valor máximo de un arreglo\n",
        "maximo = np.max(arr)\n",
        "print(\"\\nValor máximo del arreglo:\", maximo)\n",
        "\n",
        "# np.min() retorna el valor mínimo de un arreglo\n",
        "minimo = np.min(arr)\n",
        "print(\"\\nValor mínimo del arreglo:\", minimo)\n",
        "\n",
        "# np.sum() retorna la suma de los elementos de un arreglo\n",
        "suma_interna = np.sum(arr)\n",
        "print(\"\\nSuma de los elementos:\", suma_interna)\n",
        "\n",
        "# np.mean() retorna el valor medio de los elementos de un arreglo\n",
        "medio = np.mean(arr)\n",
        "print(\"\\nMedia de los elementos:\", medio)\n",
        "\n",
        "# np.reshape() cambia la forma del arreglo sin alterar sus datos\n",
        "reacomodo = np.reshape(arr, (5, 1))  # Cambia el arreglo a una matriz de 5x1\n",
        "print(\"\\nArreglo reconfigurado:\\n\", reacomodo)\n",
        "\n",
        "# np.add() suma elemento por elemento de dos arreglos\n",
        "arr2 = np.array([5, 4, 3, 2, 1])\n",
        "suma_vectores = np.add(arr, arr2)\n",
        "print(\"\\nSuma de dos arreglos:\", suma_vectores)\n",
        "\n",
        "# np.dot() calcula el producto punto entre dos arreglos\n",
        "producto_punto = np.dot(arr, arr2)\n",
        "print(\"\\nProducto punto de dos arreglos:\", producto_punto)\n",
        "\n",
        "# np.arange() genera un arreglo de números enteros en un rango definido\n",
        "range_arr = np.arange(0, 10, 2)  # De 0 a 10, con paso 2\n",
        "print(\"\\nArreglo con rango:\", range_arr)\n",
        "\n",
        "# np.argmax() retorna el índice del valor máximo de un arreglo\n",
        "indice_maximo = np.argmax(arr)\n",
        "print(\"\\nÍndice del valor máximo:\", indice_maximo)\n",
        "\n",
        "# np.resize() cambia el tamaño del arreglo, rellenando con ceros si es necesario\n",
        "redimensionado = np.resize(arr, (2, 3))  # Cambia a 2 filas y 3 columnas\n",
        "print(\"\\nArreglo redimensionado:\\n\", redimensionado)\n"
      ]
    }
  ]
}