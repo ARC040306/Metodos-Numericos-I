{
  "nbformat": 4,
  "nbformat_minor": 0,
  "metadata": {
    "colab": {
      "provenance": [],
      "authorship_tag": "ABX9TyPbwBGFIkpxue24JKA5+Fap",
      "include_colab_link": true
    },
    "kernelspec": {
      "name": "python3",
      "display_name": "Python 3"
    },
    "language_info": {
      "name": "python"
    }
  },
  "cells": [
    {
      "cell_type": "markdown",
      "metadata": {
        "id": "view-in-github",
        "colab_type": "text"
      },
      "source": [
        "<a href=\"https://colab.research.google.com/github/ARC040306/Metodos-Numericos-I/blob/main/Pivoteo_Parcial_RCA.ipynb\" target=\"_parent\"><img src=\"https://colab.research.google.com/assets/colab-badge.svg\" alt=\"Open In Colab\"/></a>"
      ]
    },
    {
      "cell_type": "code",
      "execution_count": 6,
      "metadata": {
        "colab": {
          "base_uri": "https://localhost:8080/"
        },
        "id": "3CR9sGibCypK",
        "outputId": "fc448901-78f2-4ca7-e5a1-6d427ad73be5"
      },
      "outputs": [
        {
          "output_type": "stream",
          "name": "stdout",
          "text": [
            "Ingrese el tamaño de la matriz (n x n): 2\n",
            "Ingrese los valores de la matriz aumentada fila por fila:\n",
            "Fila 1 (separe los valores con espacios, 3 valores esperados): .003000 59.14 59.17\n",
            "Fila 2 (separe los valores con espacios, 3 valores esperados): 5.291 -6.130 46.78\n",
            "El resultado es:\n",
            "x1 = 10.0000\n",
            "x2 = 1.0000\n"
          ]
        }
      ],
      "source": [
        "import numpy as np\n",
        "\n",
        "n = int(input(\"Ingrese el tamaño de la matriz (n x n): \"))\n",
        "\n",
        "# Crear matriz aumentada\n",
        "A = np.zeros((n, n + 1))\n",
        "print(\"Ingrese los valores de la matriz aumentada fila por fila:\")\n",
        "for i in range(n):\n",
        "    while True:\n",
        "        fila = input(f\"Fila {i + 1} (separe los valores con espacios, {n + 1} valores esperados): \").split()\n",
        "        if len(fila) != n + 1:\n",
        "            print(f\"Error: Debe ingresar exactamente {n + 1} valores.\")\n",
        "        else:\n",
        "            A[i] = [float(valor) for valor in fila]\n",
        "            break\n",
        "\n",
        "# Inicializar NROW como indicador de filas\n",
        "NROW = list(range(n))\n",
        "\n",
        "for i in range(n):\n",
        "    # Buscar p\n",
        "    p = -1\n",
        "    max_val = 0\n",
        "    for k in range(i, n):\n",
        "        if abs(A[NROW[k], i]) > max_val:\n",
        "            max_val = abs(A[NROW[k], i])\n",
        "            p = k\n",
        "\n",
        "    if p == -1 or A[NROW[p], i] == 0:\n",
        "        print(\"No existe una solución única\")\n",
        "        exit()\n",
        "\n",
        "    # Intercambiar filas en NROW si es necesario\n",
        "    if NROW[i] != NROW[p]:\n",
        "        NROW[i], NROW[p] = NROW[p], NROW[i]\n",
        "\n",
        "    # Reduciendo\n",
        "    for j in range(i + 1, n):\n",
        "        m_ji = A[NROW[j], i] / A[NROW[i], i]\n",
        "        A[NROW[j]] -= m_ji * A[NROW[i]]\n",
        "\n",
        "# Verificar si el sistema tiene solución única\n",
        "if A[NROW[n - 1], n - 1] == 0:\n",
        "    print(\"No existe una solución única\")\n",
        "    exit()\n",
        "x = np.zeros(n)\n",
        "x[n - 1] = A[NROW[n - 1], n] / A[NROW[n - 1], n - 1]\n",
        "for i in range(n - 2, -1, -1):\n",
        "    suma = sum(A[NROW[i], j] * x[j] for j in range(i + 1, n))\n",
        "    x[i] = (A[NROW[i], n] - suma) / A[NROW[i], i]\n",
        "\n",
        "# Imprimir los resultados\n",
        "print(\"El resultado es:\")\n",
        "for i in range(len(x)):\n",
        "    print(f\"x{i + 1} = {x[i]:.4f}\")\n",
        "\n"
      ]
    }
  ]
}