{
  "nbformat": 4,
  "nbformat_minor": 0,
  "metadata": {
    "colab": {
      "provenance": [],
      "authorship_tag": "ABX9TyNxIWqQZCPqkDyM9oXWSEvf",
      "include_colab_link": true
    },
    "kernelspec": {
      "name": "python3",
      "display_name": "Python 3"
    },
    "language_info": {
      "name": "python"
    }
  },
  "cells": [
    {
      "cell_type": "markdown",
      "metadata": {
        "id": "view-in-github",
        "colab_type": "text"
      },
      "source": [
        "<a href=\"https://colab.research.google.com/github/ARC040306/Metodos-Numericos-I/blob/main/M%C3%A9todo_de_Steffensen.ipynb\" target=\"_parent\"><img src=\"https://colab.research.google.com/assets/colab-badge.svg\" alt=\"Open In Colab\"/></a>"
      ]
    },
    {
      "cell_type": "code",
      "execution_count": 11,
      "metadata": {
        "colab": {
          "base_uri": "https://localhost:8080/"
        },
        "id": "_j_yWUwLT4_n",
        "outputId": "7b1b2b17-0f38-4186-b148-f31ff11fb937"
      },
      "outputs": [
        {
          "output_type": "stream",
          "name": "stdout",
          "text": [
            "Ingrese una aproximación inicial: 1.5\n",
            "\n",
            "Ingresa la tolerancia: .00001\n",
            "\n",
            "Ingrese el número máximo de iteraciones: 1\n",
            "\n",
            "# iter\t\t P \t\t g(P) \t\t error\n",
            "1 \t\t 1.50000 \t 1.52359 \t0.02359\n",
            "\n",
            "El método fallo después de 1 iteraciones\n"
          ]
        }
      ],
      "source": [
        "from math import*\n",
        "from sympy import*\n",
        "\n",
        "def f(x):\n",
        "    return cos(x)- 2 * x + 3 #esta es la función que se pide a resolver\n",
        "\n",
        "def g(x):\n",
        "    return (cos(x) + 3) / 2 #esta es la función ya modificada y la que permite hacer los cálculos, ya que fue verificada anteriormente\n",
        "\n",
        "#son los datos que nos brinda el problema\n",
        "p0 = float(input(\"Ingrese una aproximación inicial: \")) # 1.5\n",
        "tol = float(input(\"\\nIngresa la tolerancia: \")) # 10^-5 = .00001\n",
        "nmax = int(input(\"\\nIngrese el número máximo de iteraciones: \")) # 2 o más\n",
        "i = 1\n",
        "\n",
        "print(\"\\n# iter\\t\\t P \\t\\t g(P) \\t\\t error\")\n",
        "\n",
        "while i <= nmax:\n",
        "  p1 = g(p0)\n",
        "  p2 = g(p1)\n",
        "  p = p0 - (p1-p0)**2 / (p2 - 2 * p1 + p0)\n",
        "\n",
        "  print(\"{0} \\t\\t {1:6.5f} \\t {2:6.5f} \\t{3:6.5f}\".format(i, p0, p, abs(p-p0) ))\n",
        "  if abs(p-p0) < tol:\n",
        "    print(f\"\\nEl valor aproximado tal que g(x)=0 es {p}\")\n",
        "    break\n",
        "  elif i>=nmax:\n",
        "    print (f\"\\nEl método fallo después de {nmax} iteraciones\")\n",
        "  i += 1\n",
        "  p0 = p\n",
        "\n",
        "\n",
        "\n",
        "\n",
        "\n",
        "\n"
      ]
    }
  ]
}