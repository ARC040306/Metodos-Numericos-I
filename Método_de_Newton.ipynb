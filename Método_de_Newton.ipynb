{
  "nbformat": 4,
  "nbformat_minor": 0,
  "metadata": {
    "colab": {
      "provenance": [],
      "authorship_tag": "ABX9TyN9ogGcH/B6jqMwOqzbOWYs",
      "include_colab_link": true
    },
    "kernelspec": {
      "name": "python3",
      "display_name": "Python 3"
    },
    "language_info": {
      "name": "python"
    }
  },
  "cells": [
    {
      "cell_type": "markdown",
      "metadata": {
        "id": "view-in-github",
        "colab_type": "text"
      },
      "source": [
        "<a href=\"https://colab.research.google.com/github/ARC040306/Metodos-Numericos-I/blob/main/M%C3%A9todo_de_Newton.ipynb\" target=\"_parent\"><img src=\"https://colab.research.google.com/assets/colab-badge.svg\" alt=\"Open In Colab\"/></a>"
      ]
    },
    {
      "cell_type": "code",
      "execution_count": 24,
      "metadata": {
        "id": "mM6Kx6ruPDGu",
        "colab": {
          "base_uri": "https://localhost:8080/"
        },
        "outputId": "cfc89849-3844-41b5-e5a8-acbac5449dfe"
      },
      "outputs": [
        {
          "output_type": "stream",
          "name": "stdout",
          "text": [
            "Ingrese una aproximación inicial: 1\n",
            "\n",
            "Ingresa la tolerancia: .01\n",
            "\n",
            "Ingrese el número máximo de iteraciones: 5\n",
            "\n",
            "# iter\t\t P \t\t f(P) \t\t error\n",
            "1 \t\t 1.00000 \t 1.50000 \t0.50000\n",
            "2 \t\t 1.50000 \t 1.34783 \t0.15217\n",
            "3 \t\t 1.34783 \t 1.32520 \t0.02263\n",
            "4 \t\t 1.32520 \t 1.32472 \t0.00048\n",
            "\n",
            "La raíz aproximada es: 1.3247181739990537\n"
          ]
        }
      ],
      "source": [
        "from math import *\n",
        "import sympy as spy\n",
        "\n",
        "def f(x):\n",
        "  return x**3 - x - 1 #esta es la función que se pide a resolver\n",
        "\n",
        "\n",
        "def f_uno(x):\n",
        "  return 3 * (x**2) - 1 #esta es la función f(x) derivada\n",
        "\n",
        "p0 = float(input(\"Ingrese una aproximación inicial: \")) # 1\n",
        "tol = float(input(\"\\nIngresa la tolerancia: \")) # 10^-2 = .01\n",
        "nmax = int(input(\"\\nIngrese el número máximo de iteraciones: \")) # 5 o más\n",
        "i = 1\n",
        "\n",
        "print(\"\\n# iter\\t\\t P \\t\\t f(P) \\t\\t error\")\n",
        "while i<= nmax:\n",
        "  p = p0 - f(p0) / f_uno(p0)\n",
        "  print(\"{0} \\t\\t {1:6.5f} \\t {2:6.5f} \\t{3:6.5f}\".format(i, p0, p, abs(p0-p) ))\n",
        "  if abs(p-p0) < tol:\n",
        "    print(f\"\\nLa raíz aproximada es: {p}\")\n",
        "    break\n",
        "  elif i>=nmax:\n",
        "    print (f\"\\nEl método fallo después de {nmax} iteraciones\")\n",
        "  i += 1\n",
        "  p0 = p\n"
      ]
    }
  ]
}